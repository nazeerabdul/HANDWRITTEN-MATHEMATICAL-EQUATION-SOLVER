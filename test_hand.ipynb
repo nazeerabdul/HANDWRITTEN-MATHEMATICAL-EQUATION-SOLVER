{
 "cells": [
  {
   "cell_type": "code",
   "execution_count": 1,
   "metadata": {},
   "outputs": [],
   "source": [
    "import cv2\n",
    "import numpy as np\n",
    "import keras\n",
    "from keras.models import Model\n",
    "from keras.layers import *\n",
    "from keras import optimizers\n",
    "from keras.layers import Input,Dense\n",
    "from keras.models import Sequential\n",
    "from keras.layers import Dropout\n",
    "from keras.layers import Flatten\n",
    "from keras.layers.convolutional import Conv2D\n",
    "from keras.layers.convolutional import MaxPooling2D\n",
    "from keras.utils import np_utils"
   ]
  },
  {
   "cell_type": "code",
   "execution_count": 2,
   "metadata": {},
   "outputs": [],
   "source": [
    "from keras.models import model_from_json\n",
    "json_file = open('model_final.json', 'r')\n",
    "loaded_model_json = json_file.read()\n",
    "json_file.close()\n",
    "loaded_model = model_from_json(loaded_model_json)\n",
    "\n",
    "loaded_model.load_weights(\"model_final.h5\")"
   ]
  },
  {
   "cell_type": "code",
   "execution_count": 178,
   "metadata": {},
   "outputs": [
    {
     "name": "stdout",
     "output_type": "stream",
     "text": [
      "rects [[166, 232, 163, 119], [206, 305, 30, 37], [252, 240, 31, 43], [326, 139, 83, 71], [462, 262, 94, 17], [591, 214, 105, 98], [742, 184, 158, 107], [767, 245, 34, 32], [815, 199, 39, 29], [936, 170, 89, 126], [1073, 179, 97, 153]]\n",
      "bools [[0, 1, 1, 0, 0, 0, 0, 0, 0, 0, 0], [1, 0, 0, 0, 0, 0, 0, 0, 0, 0, 0], [1, 0, 0, 0, 0, 0, 0, 0, 0, 0, 0], [0, 0, 0, 0, 0, 0, 0, 0, 0, 0, 0], [0, 0, 0, 0, 0, 0, 0, 0, 0, 0, 0], [0, 0, 0, 0, 0, 0, 0, 0, 0, 0, 0], [0, 0, 0, 0, 0, 0, 0, 1, 1, 0, 0], [0, 0, 0, 0, 0, 0, 1, 0, 0, 0, 0], [0, 0, 0, 0, 0, 0, 1, 0, 0, 0, 0], [0, 0, 0, 0, 0, 0, 0, 0, 0, 0, 0], [0, 0, 0, 0, 0, 0, 0, 0, 0, 0, 0]]\n",
      "dump_rects [[206, 305, 30, 37], [252, 240, 31, 43], [767, 245, 34, 32], [815, 199, 39, 29]]\n",
      "final rects [[166, 232, 163, 119], [326, 139, 83, 71], [462, 262, 94, 17], [591, 214, 105, 98], [742, 184, 158, 107], [936, 170, 89, 126], [1073, 179, 97, 153]]\n"
     ]
    }
   ],
   "source": [
    "img=cv2.imread(\"C:/Users/HP/Documents/hand written poly equation solver/test6.png\",cv2.IMREAD_GRAYSCALE)\n",
    "cv2.imshow(\"w\",img)\n",
    "cv2.waitKey(0)\n",
    "cv2.destroyAllWindows()\n",
    "if img is not None:\n",
    "    img=~img\n",
    "    _,thresh=cv2.threshold(img,127,255,cv2.THRESH_BINARY)\n",
    "    ctrs,_=cv2.findContours(thresh,cv2.RETR_TREE,cv2.CHAIN_APPROX_SIMPLE)\n",
    "    cnt=sorted(ctrs,key=lambda ctr:cv2.boundingRect(ctr)[0])\n",
    "    w=int(28)\n",
    "    h=int(28)\n",
    "    train_data=[]\n",
    "    rects=[]\n",
    "    for c in cnt:\n",
    "        x,y,w,h=cv2.boundingRect(c)\n",
    "        rect=[x,y,w,h]\n",
    "        rects.append(rect)\n",
    "    print(\"rects\",rects)\n",
    "    bool_rect=[]\n",
    "    for r in rects:\n",
    "        l=[]\n",
    "        for rec in rects:\n",
    "            flag=0\n",
    "            if rec!=r:\n",
    "                if r[0]<(rec[0]+rec[2]+10) and rec[0]<(r[0]+r[2]+10) and r[1]<(rec[1]+rec[3]+10) and rec[1]<(r[1]+r[3]+10):\n",
    "                    flag=1\n",
    "                l.append(flag)\n",
    "            if rec==r:\n",
    "                l.append(0)\n",
    "        bool_rect.append(l)\n",
    "    print('bools',bool_rect)\n",
    "    dump_rect=[]\n",
    "    for i in range(0,len(cnt)):\n",
    "        for j in range(0,len(cnt)):\n",
    "            if bool_rect[i][j]==1:\n",
    "                area1=rects[i][2]*rects[i][3]\n",
    "                area2=rects[j][2]*rects[j][3]\n",
    "                if(area1==min(area1,area2)):\n",
    "                    dump_rect.append(rects[i])\n",
    "    print(\"dump_rects\",dump_rect)\n",
    "    final_rect=[i for i in rects if i not in dump_rect]\n",
    "    print(\"final rects\",final_rect)\n",
    "    for r in final_rect:\n",
    "        x=r[0]\n",
    "        y=r[1]\n",
    "        w=r[2]\n",
    "        h=r[3]\n",
    "        im_crop=thresh[y:y+h+10,x:x+w+10]\n",
    "        im_resize=cv2.resize(im_crop,(28,28))\n",
    "        cv2.imshow(\"work\",im_resize)\n",
    "        cv2.waitKey(0)\n",
    "        cv2.destroyAllWindows()\n",
    "        train_data.append(im_resize)"
   ]
  },
  {
   "cell_type": "code",
   "execution_count": 179,
   "metadata": {},
   "outputs": [
    {
     "name": "stdout",
     "output_type": "stream",
     "text": [
      "X2-2X+4\n"
     ]
    }
   ],
   "source": [
    "s=\"\"\n",
    "for i in range(len(train_data)):\n",
    "    train_data[i]=np.array(train_data[i])\n",
    "    train_data[i]=train_data[i].reshape(1,28,28,1)\n",
    "    result=np.argmax(loaded_model.predict(train_data[i]), axis=-1)\n",
    "    if(result[0]==10):\n",
    "        s=s+'-'\n",
    "    if(result[0]==11):\n",
    "        s=s+'+'\n",
    "    if(result[0]==12):\n",
    "        s=s+'X'\n",
    "    if(result[0]==13):\n",
    "        s=s+'*'\n",
    "    if(result[0]==0):\n",
    "        s=s+'0'\n",
    "    if(result[0]==1):\n",
    "        s=s+'1'\n",
    "    if(result[0]==2):\n",
    "        s=s+'2'\n",
    "    if(result[0]==3):\n",
    "        s=s+'3'\n",
    "    if(result[0]==4):\n",
    "        s=s+'4'\n",
    "    if(result[0]==5):\n",
    "        s=s+'5'\n",
    "    if(result[0]==6):\n",
    "        s=s+'6'\n",
    "    if(result[0]==7):\n",
    "        s=s+'7'\n",
    "    if(result[0]==8):\n",
    "        s=s+'8'\n",
    "    if(result[0]==9):\n",
    "        s=s+'9'\n",
    "print(s)"
   ]
  },
  {
   "cell_type": "code",
   "execution_count": 180,
   "metadata": {},
   "outputs": [],
   "source": [
    "def printEq(x):\n",
    "    flag=0\n",
    "    for i in range(len(x)):\n",
    "        if flag==1:\n",
    "            flag=0\n",
    "            continue\n",
    "        if i!=len(x)-1 and x[i]=='X'and x[i+1]!='-' and x[i+1]!='+' and x[i+1]!='*':\n",
    "            print('X^'+str(x[i+1]), end=\" \")\n",
    "            flag=1\n",
    "        else :\n",
    "            print(x[i], end=\" \")\n",
    "        "
   ]
  },
  {
   "cell_type": "code",
   "execution_count": 181,
   "metadata": {},
   "outputs": [],
   "source": [
    "def highdegree(x):\n",
    "    Max=1\n",
    "    for i in range(len(x)):\n",
    "        if i!=len(x)-1 and x[i]=='X' and x[i+1]!='-' and x[i+1]!='+' and x[i+1]!='*':\n",
    "            Max=max(Max,int(x[i+1]))\n",
    "    return Max  "
   ]
  },
  {
   "cell_type": "code",
   "execution_count": 182,
   "metadata": {},
   "outputs": [],
   "source": [
    "def solution(x):\n",
    "    printEq(x)\n",
    "    print(\"\")\n",
    "    degree=highdegree(x)\n",
    "    print(\"degree is \",degree)\n",
    "    eq=np.zeros(degree+1)\n",
    "    ind=0\n",
    "    for k in range(degree+1):\n",
    "        #find constant term\n",
    "        if k==0 :\n",
    "            for i in range(len(x)):\n",
    "                #x not infront , x not in back\n",
    "                if i==0:\n",
    "                    if x[i+1]!='X' and x[i].isdigit():\n",
    "                        eq[degree-k]=x[i]\n",
    "                        break\n",
    "                elif i==len(x)-1:\n",
    "                    if x[i-1]=='-' and x[i].isdigit():\n",
    "                        eq[degree-k]=float(x[i])*-1\n",
    "                        break\n",
    "                    else:\n",
    "                        if x[i-1]!='X' and x[i].isdigit():\n",
    "                            eq[degree-k]=x[i]\n",
    "                            break\n",
    "                elif x[i+1]!='X' and x[i-1]!='X' and x[i].isdigit():\n",
    "                    if x[i-1]=='-':\n",
    "                        eq[degree-k]=float(x[i])*-1\n",
    "                        break\n",
    "                    else:\n",
    "                        eq[degree-k]=x[i]\n",
    "                        break\n",
    "        if k==1:\n",
    "            for i in range(len(x)):\n",
    "                if i==len(x)-2:\n",
    "                    if x[i+1]=='X':\n",
    "                        eq[degree-k]=float(x[i])\n",
    "                if(i<len(x)-2):    \n",
    "                    if x[i+1]=='X' and x[i].isdigit():\n",
    "                        if(not (x[i+2].isdigit())):\n",
    "                            if x[i-1]=='-':\n",
    "                                eq[degree-k]=float(x[i])*-1\n",
    "                                break\n",
    "                            else:\n",
    "                                eq[degree-k]=x[i] \n",
    "                                break\n",
    "                      \n",
    "        if k>1:\n",
    "            if x[0]=='X':\n",
    "                eq[degree-k]=1\n",
    "            for i in range(2,len(x)):\n",
    "                if x[i].isdigit():\n",
    "                    if int(x[i])==k and x[i-1]=='X':\n",
    "                        if x[i-2].isdigit():\n",
    "                            if i-3>=0 and x[i-3]=='-':\n",
    "                                eq[degree-k]=float(x[i-2])*-1\n",
    "                                break\n",
    "                            else:\n",
    "                                eq[degree-k]=x[i-2]\n",
    "                                break\n",
    "                        else:\n",
    "                            eq[degree-k]=1\n",
    "                            break\n",
    "    #Print and return ans\n",
    "    print(list(s))\n",
    "    print(eq\n",
    "          \n",
    "          \n",
    "    print(np.roots(eq))\n",
    "    return np.roots(eq)"
   ]
  },
  {
   "cell_type": "code",
   "execution_count": 183,
   "metadata": {},
   "outputs": [
    {
     "name": "stdout",
     "output_type": "stream",
     "text": [
      "X^2 - 2 X + 4 \n",
      "degree is  2\n",
      "['X', '2', '-', '2', 'X', '+', '4']\n",
      "[ 1. -2.  4.]\n",
      "[1.+1.73205081j 1.-1.73205081j]\n"
     ]
    },
    {
     "data": {
      "text/plain": [
       "array([1.+1.73205081j, 1.-1.73205081j])"
      ]
     },
     "execution_count": 183,
     "metadata": {},
     "output_type": "execute_result"
    }
   ],
   "source": [
    "solution(list(s))"
   ]
  },
  {
   "cell_type": "code",
   "execution_count": null,
   "metadata": {},
   "outputs": [],
   "source": []
  }
 ],
 "metadata": {
  "kernelspec": {
   "display_name": "Python 3",
   "language": "python",
   "name": "python3"
  },
  "language_info": {
   "codemirror_mode": {
    "name": "ipython",
    "version": 3
   },
   "file_extension": ".py",
   "mimetype": "text/x-python",
   "name": "python",
   "nbconvert_exporter": "python",
   "pygments_lexer": "ipython3",
   "version": "3.7.6"
  }
 },
 "nbformat": 4,
 "nbformat_minor": 5
}
